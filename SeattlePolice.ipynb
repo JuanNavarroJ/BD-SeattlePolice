{
 "cells": [
  {
   "cell_type": "code",
   "execution_count": null,
   "metadata": {},
   "outputs": [],
   "source": [
    "#Se importa vaex\n",
    "import vaex\n",
    "import vaex.jupyter\n",
    "import numpy as np\n",
    "import pylab as plt\n",
    "%matplotlib inline"
   ]
  },
  {
   "cell_type": "code",
   "execution_count": null,
   "metadata": {},
   "outputs": [],
   "source": [
    "#Se cargan los datos utilizando Vaex y se almacenan en \"data\"\n",
    "data = vaex.open('Seattle_Police_Department_911_Incident_Response.csv')"
   ]
  },
  {
   "cell_type": "code",
   "execution_count": null,
   "metadata": {},
   "outputs": [],
   "source": [
    "#Usando vaex se crea una grafica con la ubicacion de los incidentes usando longitud y latitud\n",
    "data.widget.heatmap(data.Longitude, \n",
    "               data.Latitude, \n",
    "               shape=512, \n",
    "               limits='minmax',\n",
    "               f='log1p', \n",
    "               colormap='magma')"
   ]
  },
  {
   "cell_type": "code",
   "execution_count": null,
   "metadata": {},
   "outputs": [],
   "source": [
    "#Importamos pandas\n",
    "import pandas as pd"
   ]
  },
  {
   "cell_type": "code",
   "execution_count": null,
   "metadata": {
    "scrolled": true
   },
   "outputs": [],
   "source": [
    "#Cargamos los datos utilizando Pandas y se almacenan en \"data2\"\n",
    "data2 = pd.read_csv('Seattle_Police_Department_911_Incident_Response.csv',sep=',')\n",
    "data2"
   ]
  },
  {
   "cell_type": "code",
   "execution_count": null,
   "metadata": {},
   "outputs": [],
   "source": [
    "#Importamos iplot para hacer graficas\n",
    "from plotly.offline import iplot\n",
    "import cufflinks as cf\n",
    "cf.go_offline()"
   ]
  },
  {
   "cell_type": "code",
   "execution_count": null,
   "metadata": {},
   "outputs": [],
   "source": [
    "#Por medio de iplot \n",
    "data2['Event Clearance Code'].iplot(kind='hist', bins=1000, xTitle='Code',\n",
    "    linecolor='black', yTitle='count', title='Event')"
   ]
  },
  {
   "cell_type": "code",
   "execution_count": null,
   "metadata": {
    "scrolled": true
   },
   "outputs": [],
   "source": [
    "data2"
   ]
  },
  {
   "cell_type": "code",
   "execution_count": null,
   "metadata": {
    "scrolled": true
   },
   "outputs": [],
   "source": [
    "data2['Event Clearance Description'].iplot(kind='hist', bins=20, xTitle='Description',\n",
    "    linecolor='black', yTitle='Count', title='Event Clearance Description')"
   ]
  }
 ],
 "metadata": {
  "kernelspec": {
   "display_name": "Python 3",
   "language": "python",
   "name": "python3"
  },
  "language_info": {
   "codemirror_mode": {
    "name": "ipython",
    "version": 3
   },
   "file_extension": ".py",
   "mimetype": "text/x-python",
   "name": "python",
   "nbconvert_exporter": "python",
   "pygments_lexer": "ipython3",
   "version": "3.7.6"
  }
 },
 "nbformat": 4,
 "nbformat_minor": 4
}
